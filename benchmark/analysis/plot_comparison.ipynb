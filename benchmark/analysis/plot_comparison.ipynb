{
 "cells": [
  {
   "cell_type": "code",
   "execution_count": null,
   "metadata": {},
   "outputs": [],
   "source": [
    "%matplotlib inline\n",
    "import pandas\n",
    "from matplotlib import pyplot as plt\n",
    "import subprocess"
   ]
  },
  {
   "cell_type": "code",
   "execution_count": null,
   "metadata": {},
   "outputs": [],
   "source": [
    "def exec_benchmark(version, container_size, app_data_size, iterations = 200, churn = 0.1):\n",
    "    print (\"Running {}_vector_benchmark\".format(version), str(container_size), str(app_data_size), str(churn), str(iterations))\n",
    "    subprocess.check_output( [\"../../build/{}_vector_benchmark\".format(version), str(container_size), str(app_data_size), str(churn), str(iterations) ] )\n",
    "    df = pandas.read_csv(\"{}_vector_results.txt\".format(version))\n",
    "    \n",
    "    # convert from nano to milli secs\n",
    "    df.visit_vector = df.visit_vector/10**(-6)\n",
    "    df.fill_vector = df.visit_vector/10**(-6)\n",
    "    \n",
    "    print (\"done\")\n",
    "    return df"
   ]
  },
  {
   "cell_type": "code",
   "execution_count": null,
   "metadata": {},
   "outputs": [],
   "source": [
    "dfs = []\n",
    "\n",
    "for container_size in range(1, 50, 25):\n",
    "    df_unified = exec_benchmark(\"unified\", container_size, 500)\n",
    "    df_virtual = exec_benchmark(\"virtual\", container_size, 500)\n",
    "\n",
    "    dfs.append( {\"container_size\" : container_size, \"unified\" : df_unified, \"virtual\" : df_virtual} )"
   ]
  },
  {
   "cell_type": "code",
   "execution_count": null,
   "metadata": {},
   "outputs": [],
   "source": [
    "\n",
    "# good config, gives 1GB ram and ~ 30 MB vector size\n",
    "# 2000000 0.2"
   ]
  },
  {
   "cell_type": "code",
   "execution_count": null,
   "metadata": {},
   "outputs": [],
   "source": [
    "for e in dfs:\n",
    "    plt.figure()\n",
    "    ax = e[\"unified\"].visit_vector.plot(label=\"unified\")\n",
    "    e[\"virtual\"].visit_vector.plot(label=\"virtual\")\n",
    "    \n",
    "    diff = (e[\"unified\"].visit_vector - e[\"virtual\"].visit_vector)\n",
    "    speedup = (e[\"virtual\"].visit_vector / e[\"unified\"].visit_vector )\n",
    "    plt.legend()\n",
    "    ax.set_ylim(bottom=0)\n",
    "    \n",
    "    plt.figure()\n",
    "    diff.plot()\n",
    "    \n",
    "    plt.figure()\n",
    "    speedup.plot()"
   ]
  },
  {
   "cell_type": "code",
   "execution_count": null,
   "metadata": {},
   "outputs": [],
   "source": [
    "for e in dfs:\n",
    "    plt.figure()\n",
    "    ax = e[\"unified\"].fill_vector.plot(label=\"unified\")\n",
    "    e[\"virtual\"].fill_vector.plot(label=\"virtual\")\n",
    "    plt.legend()\n",
    "    ax.set_ylim(bottom=0)"
   ]
  },
  {
   "cell_type": "code",
   "execution_count": null,
   "metadata": {},
   "outputs": [],
   "source": []
  },
  {
   "cell_type": "code",
   "execution_count": null,
   "metadata": {},
   "outputs": [],
   "source": []
  }
 ],
 "metadata": {
  "kernelspec": {
   "display_name": "Python 3",
   "language": "python",
   "name": "python3"
  },
  "language_info": {
   "codemirror_mode": {
    "name": "ipython",
    "version": 3
   },
   "file_extension": ".py",
   "mimetype": "text/x-python",
   "name": "python",
   "nbconvert_exporter": "python",
   "pygments_lexer": "ipython3",
   "version": "3.6.2"
  }
 },
 "nbformat": 4,
 "nbformat_minor": 2
}
